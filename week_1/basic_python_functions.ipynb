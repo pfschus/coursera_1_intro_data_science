{
 "cells": [
  {
   "cell_type": "markdown",
   "metadata": {},
   "source": [
    "# The Python Programming Language\n",
    "\n",
    "From Coursera: Intro to Data Science, Week 1   \n",
    "Patricia Schuster, University of Michigan  \n",
    "Feb. 2017\n",
    "\n",
    "# Basic Python Functions\n",
    "\n",
    "In this section, I will explore how to store and call functions using Python's Jupyter interface. \n",
    "\n",
    "## Required input parameters\n",
    "\n",
    "Start by creating a simple function, `add_numbers`, that calculates the sum of two values."
   ]
  },
  {
   "cell_type": "code",
   "execution_count": 8,
   "metadata": {},
   "outputs": [
    {
     "data": {
      "text/plain": [
       "3"
      ]
     },
     "execution_count": 8,
     "metadata": {},
     "output_type": "execute_result"
    }
   ],
   "source": [
    "def add_numbers(x,y):\n",
    "    \"\"\"\n",
    "    Require: Two inputs, x and y\n",
    "    Modify: --\n",
    "    Effect: Return sum of inputs\n",
    "    \"\"\"\n",
    "    return x + y\n",
    "\n",
    "add_numbers(1,2)"
   ]
  },
  {
   "cell_type": "markdown",
   "metadata": {},
   "source": [
    "*Note on comment block:* At the beginning of each of my functions, I include a comment block to describe the purpose and use of that function. The important things to include are:  \n",
    "- Require: Input parameters that must be included  \n",
    "- Modify: Input parameters that are optional or may be modified  \n",
    "- Effect: Briefly, what does the function produce or return?  \n",
    "If I want to see the comment block at the beginning of the function, I can use the built-in `help` function:"
   ]
  },
  {
   "cell_type": "code",
   "execution_count": 9,
   "metadata": {},
   "outputs": [
    {
     "name": "stdout",
     "output_type": "stream",
     "text": [
      "Help on function add_numbers in module __main__:\n",
      "\n",
      "add_numbers(x, y)\n",
      "    Require: Two inputs, x and y\n",
      "    Modify: --\n",
      "    Effect: Return sum of inputs\n",
      "\n"
     ]
    }
   ],
   "source": [
    "help(add_numbers)"
   ]
  },
  {
   "cell_type": "markdown",
   "metadata": {},
   "source": [
    "*Note on return statement:* The calculation of the sum is performed in the return statement. In the past, I have always first stored that sum to another variables, and then returned that variable, but this makes for shorter, more concise code. It also requires python to save fewer variables, which would save memory if my variables were very large. "
   ]
  },
  {
   "cell_type": "markdown",
   "metadata": {},
   "source": [
    "## Optional input parameters\n",
    "\n",
    "I will modify `add_numbers` to accept either two of three input parameters. If only two are provided, then the third value will default to `None`. The optional parameters must come at the end of the line, since the required input parameters `x` and `y` will be expected in the first two input positions, in that order."
   ]
  },
  {
   "cell_type": "code",
   "execution_count": 6,
   "metadata": {},
   "outputs": [
    {
     "name": "stdout",
     "output_type": "stream",
     "text": [
      "3\n",
      "6\n"
     ]
    }
   ],
   "source": [
    "def add_numbers(x,y,z=None):\n",
    "    \"\"\"\n",
    "    Require: Two inputs, x and y\n",
    "    Modify: Third input, z\n",
    "    Effect: Return sum of inputs\n",
    "    \"\"\"    \n",
    "    if (z==None):\n",
    "        # Only add two values\n",
    "        return x+y\n",
    "    else:\n",
    "        # Return three values\n",
    "        return x+y+z\n",
    "    \n",
    "print(add_numbers(1,2))\n",
    "print(add_numbers(1,2,3))"
   ]
  },
  {
   "cell_type": "markdown",
   "metadata": {},
   "source": [
    "*Note on function structure*: Again, note that the `return` statement is not always the final line in this function. It can occur farther up.\n",
    "\n",
    "*Note on cells*: Each of my `add_numbers` definitions in this notebook is in a different cell, which is convenient for running them separately. It is important to remember that if I define `add_numbers` in a new cell after it has already been defined, I will overwrite the previous definition. If I want to revert the definition, I can go back and rerun the original cell. \n",
    "\n",
    "*Note on print statements in Jupyter*: In the previous cell, I printed the output of `add_numbers(1,2)` without a `print` statement. In this cell, I printed the output of both `add_numbers(1,2)` and `add_number(1,2,3)`, but had to include a `print` statement on both lines. While Jupyter is smarter than a command-line interactive Python session and will print results, that will only happen for the very last line. Thus, if I had not included the `print` statement, only the second `add_number` result would have been printed."
   ]
  },
  {
   "cell_type": "markdown",
   "metadata": {},
   "source": [
    "## Labeled input parameters\n",
    "\n",
    "If I have several optional arguments and I want to skip one, I can pass in a *labeled* input parameter, in which I specify the name as used in the function definition. Update `add_numbers`..."
   ]
  },
  {
   "cell_type": "code",
   "execution_count": 14,
   "metadata": {},
   "outputs": [
    {
     "name": "stdout",
     "output_type": "stream",
     "text": [
      "Flag is true!\n",
      "3\n"
     ]
    }
   ],
   "source": [
    "def add_numbers(x,y,z=None,flag=False):\n",
    "    \"\"\"\n",
    "    Require: Two inputs, x and y\n",
    "    Modify: Third input, z (optional), and flag\n",
    "    Effect: Return sum of inputs\n",
    "    \"\"\"\n",
    "    if flag:\n",
    "        print('Flag is true!')\n",
    "    \n",
    "    if (z==None):\n",
    "        # Only add two values\n",
    "        return x+y\n",
    "    else:\n",
    "        # Return three values\n",
    "        return x+y+z\n",
    "    \n",
    "print(add_numbers(1,2,flag=True))"
   ]
  },
  {
   "cell_type": "markdown",
   "metadata": {},
   "source": [
    "This prints two things:  \n",
    "1) `Flag is true!`, which is printed in the function `add_numbers` whenever `flag` is `True`, and  \n",
    "2) the sum as calculated by the `return` statement."
   ]
  },
  {
   "cell_type": "code",
   "execution_count": 11,
   "metadata": {},
   "outputs": [
    {
     "name": "stdout",
     "output_type": "stream",
     "text": [
      "Help on function add_numbers in module __main__:\n",
      "\n",
      "add_numbers(x, y, z=None, flag=False)\n",
      "    Require: Two inputs, x and y\n",
      "    Modify: Third input, z (optional), and flag\n",
      "    Effect: Return sum of inputs\n",
      "\n"
     ]
    }
   ],
   "source": [
    "help(add_numbers)"
   ]
  },
  {
   "cell_type": "markdown",
   "metadata": {},
   "source": [
    "## Assign a function to a variable\n",
    "\n",
    "This is something I have not encountered before, but you can assign a function to a variable, and then call that variable with input arguments just as if you were calling the function. This will become useful when I have really long function names."
   ]
  },
  {
   "cell_type": "code",
   "execution_count": 16,
   "metadata": {},
   "outputs": [
    {
     "data": {
      "text/plain": [
       "3"
      ]
     },
     "execution_count": 16,
     "metadata": {},
     "output_type": "execute_result"
    }
   ],
   "source": [
    "a = add_numbers\n",
    "a(1,2)"
   ]
  },
  {
   "cell_type": "code",
   "execution_count": 17,
   "metadata": {},
   "outputs": [
    {
     "name": "stdout",
     "output_type": "stream",
     "text": [
      "Flag is true!\n"
     ]
    },
    {
     "data": {
      "text/plain": [
       "6"
      ]
     },
     "execution_count": 17,
     "metadata": {},
     "output_type": "execute_result"
    }
   ],
   "source": [
    "a(1,2,z=3,flag=True)"
   ]
  },
  {
   "cell_type": "code",
   "execution_count": null,
   "metadata": {
    "collapsed": true
   },
   "outputs": [],
   "source": []
  }
 ],
 "metadata": {
  "anaconda-cloud": {},
  "kernelspec": {
   "display_name": "Python 3",
   "language": "python",
   "name": "python3"
  },
  "language_info": {
   "codemirror_mode": {
    "name": "ipython",
    "version": 3
   },
   "file_extension": ".py",
   "mimetype": "text/x-python",
   "name": "python",
   "nbconvert_exporter": "python",
   "pygments_lexer": "ipython3",
   "version": "3.7.1"
  }
 },
 "nbformat": 4,
 "nbformat_minor": 1
}
