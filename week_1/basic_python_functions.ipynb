{
 "cells": [
  {
   "cell_type": "markdown",
   "metadata": {},
   "source": [
    "# The Python Programming Language\n",
    "\n",
    "From Coursera: Intro to Data Science, Week 1   \n",
    "Patricia Schuster, University of Michigan  \n",
    "Feb. 2017\n",
    "\n",
    "# Basic Python Functions\n",
    "\n",
    "In this section, I will explore how to store and call functions using Python's Jupyter interface. \n",
    "\n",
    "## Required input parameters\n",
    "\n",
    "Start by creating a simple function, `add_numbers`, that calculates the sum of two values."
   ]
  },
  {
   "cell_type": "code",
   "execution_count": 8,
   "metadata": {
    "collapsed": false
   },
   "outputs": [
    {
     "data": {
      "text/plain": [
       "3"
      ]
     },
     "execution_count": 8,
     "metadata": {},
     "output_type": "execute_result"
    }
   ],
   "source": [
    "def add_numbers(x,y):\n",
    "    \"\"\"\n",
    "    Require: Two inputs, x and y\n",
    "    Modify: --\n",
    "    Effect: Return sum of inputs\n",
    "    \"\"\"\n",
    "    return x + y\n",
    "\n",
    "add_numbers(1,2)"
   ]
  },
  {
   "cell_type": "markdown",
   "metadata": {},
   "source": [
    "*Note on comment block:* At the beginning of each of my functions, I include a comment block to describe the purpose and use of that function. The important things to include are:  \n",
    "- Require: Input parameters that must be included  \n",
    "- Modify: Input parameters that are optional or may be modified  \n",
    "- Effect: Briefly, what does the function produce or return?  \n",
    "If I want to see the comment block at the beginning of the function, I can use the built-in `help` function:"
   ]
  },
  {
   "cell_type": "code",
   "execution_count": 9,
   "metadata": {
    "collapsed": false
   },
   "outputs": [
    {
     "name": "stdout",
     "output_type": "stream",
     "text": [
      "Help on function add_numbers in module __main__:\n",
      "\n",
      "add_numbers(x, y)\n",
      "    Require: Two inputs, x and y\n",
      "    Modify: --\n",
      "    Effect: Return sum of inputs\n",
      "\n"
     ]
    }
   ],
   "source": [
    "help(add_numbers)"
   ]
  },
  {
   "cell_type": "markdown",
   "metadata": {},
   "source": [
    "*Note on return statement:* The calculation of the sum is performed in the return statement. In the past, I have always first stored that sum to another variables, and then returned that variable, but this makes for shorter, more concise code. It also requires python to save fewer variables, which would save memory if my variables were very large. "
   ]
  },
  {
   "cell_type": "markdown",
   "metadata": {},
   "source": [
    "## Optional input parameters\n",
    "\n",
    "I will modify `add_numbers` to accept either two of three input parameters. If only two are provided, then the third value will default to `None`. The optional parameters must come at the end of the line, since the required input parameters `x` and `y` will be expected in the first two input positions, in that order."
   ]
  },
  {
   "cell_type": "code",
   "execution_count": 6,
   "metadata": {
    "collapsed": false
   },
   "outputs": [
    {
     "name": "stdout",
     "output_type": "stream",
     "text": [
      "3\n",
      "6\n"
     ]
    }
   ],
   "source": [
    "def add_numbers(x,y,z=None):\n",
    "    \"\"\"\n",
    "    Require: Two inputs, x and y\n",
    "    Modify: Third input, z\n",
    "    Effect: Return sum of inputs\n",
    "    \"\"\"    \n",
    "    if (z==None):\n",
    "        # Only add two values\n",
    "        return x+y\n",
    "    else:\n",
    "        # Return three values\n",
    "        return x+y+z\n",
    "    \n",
    "print(add_numbers(1,2))\n",
    "print(add_numbers(1,2,3))"
   ]
  },
  {
   "cell_type": "markdown",
   "metadata": {},
   "source": [
    "*Note on function structure*: Again, note that the `return` statement is not always the final line in this function. It can occur farther up.\n",
    "\n",
    "*Note on cells*: Each of my `add_numbers` definitions in this notebook is in a different cell, which is convenient for running them separately. It is important to remember that if I define `add_numbers` in a new cell after it has already been defined, I will overwrite the previous definition. If I want to revert the definition, I can go back and rerun the original cell. \n",
    "\n",
    "*Note on print statements in Jupyter*: In the previous cell, I printed the output of `add_numbers(1,2)` without a `print` statement. In this cell, I printed the output of both `add_numbers(1,2)` and `add_number(1,2,3)`, but had to include a `print` statement on both lines. While Jupyter is smarter than a command-line interactive Python session and will print results, that will only happen for the very last line. Thus, if I had not included the `print` statement, only the second `add_number` result would have been printed."
   ]
  },
  {
   "cell_type": "markdown",
   "metadata": {},
   "source": [
    "## Labeled input parameters\n",
    "\n",
    "If I have several optional arguments and I want to skip one, I can pass in a *labeled* input parameter, in which I specify the name as used in the function definition. Update `add_numbers`..."
   ]
  },
  {
   "cell_type": "code",
   "execution_count": 14,
   "metadata": {
    "collapsed": false
   },
   "outputs": [
    {
     "name": "stdout",
     "output_type": "stream",
     "text": [
      "Flag is true!\n",
      "3\n"
     ]
    }
   ],
   "source": [
    "def add_numbers(x,y,z=None,flag=False):\n",
    "    \"\"\"\n",
    "    Require: Two inputs, x and y\n",
    "    Modify: Third input, z (optional), and flag\n",
    "    Effect: Return sum of inputs\n",
    "    \"\"\"\n",
    "    if flag:\n",
    "        print('Flag is true!')\n",
    "    \n",
    "    if (z==None):\n",
    "        # Only add two values\n",
    "        return x+y\n",
    "    else:\n",
    "        # Return three values\n",
    "        return x+y+z\n",
    "    \n",
    "print(add_numbers(1,2,flag=True))"
   ]
  },
  {
   "cell_type": "markdown",
   "metadata": {},
   "source": [
    "This prints two things:  \n",
    "1) `Flag is true!`, which is printed in the function `add_numbers` whenever `flag` is `True`, and  \n",
    "2) the sum as calculated by the `return` statement."
   ]
  },
  {
   "cell_type": "code",
   "execution_count": 11,
   "metadata": {
    "collapsed": false
   },
   "outputs": [
    {
     "name": "stdout",
     "output_type": "stream",
     "text": [
      "Help on function add_numbers in module __main__:\n",
      "\n",
      "add_numbers(x, y, z=None, flag=False)\n",
      "    Require: Two inputs, x and y\n",
      "    Modify: Third input, z (optional), and flag\n",
      "    Effect: Return sum of inputs\n",
      "\n"
     ]
    }
   ],
   "source": [
    "help(add_numbers)"
   ]
  },
  {
   "cell_type": "markdown",
   "metadata": {},
   "source": [
    "## Assign a function to a variable\n",
    "\n",
    "This is something I have not encountered before, but you can assign a function to a variable, and then call that variable with input arguments just as if you were calling the function. This will become useful when I have really long function names."
   ]
  },
  {
   "cell_type": "code",
   "execution_count": 16,
   "metadata": {
    "collapsed": false
   },
   "outputs": [
    {
     "data": {
      "text/plain": [
       "3"
      ]
     },
     "execution_count": 16,
     "metadata": {},
     "output_type": "execute_result"
    }
   ],
   "source": [
    "a = add_numbers\n",
    "a(1,2)"
   ]
  },
  {
   "cell_type": "code",
   "execution_count": 17,
   "metadata": {
    "collapsed": false
   },
   "outputs": [
    {
     "name": "stdout",
     "output_type": "stream",
     "text": [
      "Flag is true!\n"
     ]
    },
    {
     "data": {
      "text/plain": [
       "6"
      ]
     },
     "execution_count": 17,
     "metadata": {},
     "output_type": "execute_result"
    }
   ],
   "source": [
    "a(1,2,z=3,flag=True)"
   ]
  },
  {
   "cell_type": "markdown",
   "metadata": {},
   "source": [
    "# Types and Sequences\n",
    "\n",
    "Python has a handy built-in function called `type` that will return the type of the input argument.\n",
    "\n",
    "## Types are not static\n",
    "\n",
    "The type of each variable- a string, int, array, list, dictionary, etc- is not defined in the same way in Python as it is in other programming languages such as C or Java. You do not need to declare a variable's type, and that type is not static. This means that if you modify a variable, it is possible to change that variable's type in the process.\n",
    "\n",
    "For instance, I can define variable a as a string:"
   ]
  },
  {
   "cell_type": "code",
   "execution_count": 18,
   "metadata": {
    "collapsed": false
   },
   "outputs": [
    {
     "data": {
      "text/plain": [
       "str"
      ]
     },
     "execution_count": 18,
     "metadata": {},
     "output_type": "execute_result"
    }
   ],
   "source": [
    "a = 'My favorite text'\n",
    "type(a)"
   ]
  },
  {
   "cell_type": "markdown",
   "metadata": {},
   "source": [
    "And immediately redefine it as a number:"
   ]
  },
  {
   "cell_type": "code",
   "execution_count": 19,
   "metadata": {
    "collapsed": false
   },
   "outputs": [
    {
     "data": {
      "text/plain": [
       "float"
      ]
     },
     "execution_count": 19,
     "metadata": {},
     "output_type": "execute_result"
    }
   ],
   "source": [
    "a = 25.6\n",
    "type(a)"
   ]
  },
  {
   "cell_type": "markdown",
   "metadata": {},
   "source": [
    "# Many types exist"
   ]
  },
  {
   "cell_type": "markdown",
   "metadata": {},
   "source": [
    "Explore what types exist in Python."
   ]
  },
  {
   "cell_type": "code",
   "execution_count": 20,
   "metadata": {
    "collapsed": false
   },
   "outputs": [
    {
     "data": {
      "text/plain": [
       "str"
      ]
     },
     "execution_count": 20,
     "metadata": {},
     "output_type": "execute_result"
    }
   ],
   "source": [
    "type('This is a string')"
   ]
  },
  {
   "cell_type": "code",
   "execution_count": 21,
   "metadata": {
    "collapsed": false
   },
   "outputs": [
    {
     "data": {
      "text/plain": [
       "NoneType"
      ]
     },
     "execution_count": 21,
     "metadata": {},
     "output_type": "execute_result"
    }
   ],
   "source": [
    "type(None)"
   ]
  },
  {
   "cell_type": "code",
   "execution_count": 22,
   "metadata": {
    "collapsed": false
   },
   "outputs": [
    {
     "data": {
      "text/plain": [
       "int"
      ]
     },
     "execution_count": 22,
     "metadata": {},
     "output_type": "execute_result"
    }
   ],
   "source": [
    "type(1)"
   ]
  },
  {
   "cell_type": "code",
   "execution_count": 23,
   "metadata": {
    "collapsed": false
   },
   "outputs": [
    {
     "data": {
      "text/plain": [
       "float"
      ]
     },
     "execution_count": 23,
     "metadata": {},
     "output_type": "execute_result"
    }
   ],
   "source": [
    "type(1.0)"
   ]
  },
  {
   "cell_type": "code",
   "execution_count": 24,
   "metadata": {
    "collapsed": false
   },
   "outputs": [
    {
     "data": {
      "text/plain": [
       "function"
      ]
     },
     "execution_count": 24,
     "metadata": {},
     "output_type": "execute_result"
    }
   ],
   "source": [
    "type(add_numbers)"
   ]
  },
  {
   "cell_type": "code",
   "execution_count": 33,
   "metadata": {
    "collapsed": false
   },
   "outputs": [
    {
     "data": {
      "text/plain": [
       "list"
      ]
     },
     "execution_count": 33,
     "metadata": {},
     "output_type": "execute_result"
    }
   ],
   "source": [
    "type([1,2,3])"
   ]
  },
  {
   "cell_type": "markdown",
   "metadata": {},
   "source": [
    "*Note on printing types*: If I print types as above, Jupyter simply prints the type. If I use a `print` statement, Jupyter prints the type slightly differently:"
   ]
  },
  {
   "cell_type": "code",
   "execution_count": 34,
   "metadata": {
    "collapsed": false
   },
   "outputs": [
    {
     "name": "stdout",
     "output_type": "stream",
     "text": [
      "<class 'list'>\n"
     ]
    }
   ],
   "source": [
    "print(type([1,2,3]))"
   ]
  },
  {
   "cell_type": "markdown",
   "metadata": {},
   "source": [
    "## Collections: Tuples, lists, dictionaries\n",
    "\n",
    "Typed objects have functions or data associated with them. Much of python is built around different kinds of sequences or collection types. There are three native kinds of collections of interest: Tuples, lists, and dictionaries."
   ]
  },
  {
   "cell_type": "markdown",
   "metadata": {},
   "source": [
    "### Tuple\n",
    "\n",
    "An immutable data structure (cannot be altered) consisting of items in an ordering. A tuple is defined using parentheses, `(` `)`, and can contain multiple types. Take a look at one."
   ]
  },
  {
   "cell_type": "code",
   "execution_count": 32,
   "metadata": {
    "collapsed": false
   },
   "outputs": [
    {
     "name": "stdout",
     "output_type": "stream",
     "text": [
      "<class 'tuple'>\n",
      "<class 'int'>\n",
      "<class 'str'>\n"
     ]
    }
   ],
   "source": [
    "x = (1,'a',2,'b')\n",
    "print(type(x))\n",
    "print(type(x[0]))\n",
    "print(type(x[1]))"
   ]
  },
  {
   "cell_type": "markdown",
   "metadata": {},
   "source": [
    "As noted above, there is no way to modify an element in tuple `x` after `x` has been assigned."
   ]
  },
  {
   "cell_type": "code",
   "execution_count": 36,
   "metadata": {
    "collapsed": false
   },
   "outputs": [
    {
     "ename": "TypeError",
     "evalue": "'tuple' object does not support item assignment",
     "output_type": "error",
     "traceback": [
      "\u001b[0;31m---------------------------------------------------------------------------\u001b[0m",
      "\u001b[0;31mTypeError\u001b[0m                                 Traceback (most recent call last)",
      "\u001b[0;32m<ipython-input-36-cf11c33f17a7>\u001b[0m in \u001b[0;36m<module>\u001b[0;34m()\u001b[0m\n\u001b[0;32m----> 1\u001b[0;31m \u001b[0mx\u001b[0m\u001b[1;33m[\u001b[0m\u001b[1;36m0\u001b[0m\u001b[1;33m]\u001b[0m \u001b[1;33m=\u001b[0m \u001b[1;36m4\u001b[0m\u001b[1;33m\u001b[0m\u001b[0m\n\u001b[0m",
      "\u001b[0;31mTypeError\u001b[0m: 'tuple' object does not support item assignment"
     ]
    }
   ],
   "source": [
    "x[0] = 4"
   ]
  },
  {
   "cell_type": "markdown",
   "metadata": {},
   "source": [
    "## List\n",
    "\n",
    "Lists are similar to tuples, except that they are defined using square brackets `[` `]` and can be modified after being defined. Take a look at the same data as stored above in the tuple, now stored in a list."
   ]
  },
  {
   "cell_type": "code",
   "execution_count": 46,
   "metadata": {
    "collapsed": false
   },
   "outputs": [
    {
     "name": "stdout",
     "output_type": "stream",
     "text": [
      "<class 'list'>\n",
      "<class 'int'>\n",
      "<class 'str'>\n"
     ]
    }
   ],
   "source": [
    "x = [1,'a',2,'b']\n",
    "print(type(x))\n",
    "print(type(x[0]))\n",
    "print(type(x[1]))"
   ]
  },
  {
   "cell_type": "markdown",
   "metadata": {},
   "source": [
    "Lists are \"mutable\" data structures, meaning they can be modified. In order to add a new object to the end of the list, use `append`:"
   ]
  },
  {
   "cell_type": "code",
   "execution_count": 47,
   "metadata": {
    "collapsed": false
   },
   "outputs": [
    {
     "name": "stdout",
     "output_type": "stream",
     "text": [
      "[1, 'a', 2, 'b', 3.3]\n",
      "<class 'list'>\n",
      "<class 'float'>\n"
     ]
    }
   ],
   "source": [
    "x.append(3.3)\n",
    "print(x)\n",
    "print(type(x))\n",
    "print(type(x[4]))"
   ]
  },
  {
   "cell_type": "code",
   "execution_count": null,
   "metadata": {
    "collapsed": true
   },
   "outputs": [],
   "source": []
  }
 ],
 "metadata": {
  "anaconda-cloud": {},
  "kernelspec": {
   "display_name": "Python [conda root]",
   "language": "python",
   "name": "conda-root-py"
  },
  "language_info": {
   "codemirror_mode": {
    "name": "ipython",
    "version": 3
   },
   "file_extension": ".py",
   "mimetype": "text/x-python",
   "name": "python",
   "nbconvert_exporter": "python",
   "pygments_lexer": "ipython3",
   "version": "3.5.2"
  }
 },
 "nbformat": 4,
 "nbformat_minor": 1
}
