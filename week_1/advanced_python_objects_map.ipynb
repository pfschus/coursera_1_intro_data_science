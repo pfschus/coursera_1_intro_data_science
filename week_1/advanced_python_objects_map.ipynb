{
 "cells": [
  {
   "cell_type": "markdown",
   "metadata": {},
   "source": [
    "# The Python Programming Language\n",
    "\n",
    "From Coursera: Intro to Data Science, Week 1   \n",
    "Patricia Schuster, University of Michigan  \n",
    "Feb. 2017\n",
    "\n",
    "# Advanced Python Objects, map()\n",
    "\n",
    "In this section, I will explore the basics of managing dates and times.\n",
    "\n",
    "Start by importing relevant packages"
   ]
  }
 ],
 "metadata": {
  "kernelspec": {
   "display_name": "Python [conda root]",
   "language": "python",
   "name": "conda-root-py"
  },
  "language_info": {
   "codemirror_mode": {
    "name": "ipython",
    "version": 3
   },
   "file_extension": ".py",
   "mimetype": "text/x-python",
   "name": "python",
   "nbconvert_exporter": "python",
   "pygments_lexer": "ipython3",
   "version": "3.5.2"
  }
 },
 "nbformat": 4,
 "nbformat_minor": 1
}
